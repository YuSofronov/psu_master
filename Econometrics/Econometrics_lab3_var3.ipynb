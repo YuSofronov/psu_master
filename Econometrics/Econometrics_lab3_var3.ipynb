{
 "cells": [
  {
   "cell_type": "markdown",
   "id": "dfc3be7e",
   "metadata": {},
   "source": [
    "### Если потребуется запустить notebook в Colab можно выполнить данную ячейку, чтобы избежать проблем с импортами библиотек (но должно работать и без нее)"
   ]
  },
  {
   "cell_type": "code",
   "execution_count": null,
   "id": "37c2977f",
   "metadata": {},
   "outputs": [],
   "source": [
    "!pip install scipy\n",
    "!pip install matplotlib\n",
    "!pip install numpy\n",
    "!pip install random"
   ]
  },
  {
   "cell_type": "markdown",
   "id": "32aa20a9",
   "metadata": {},
   "source": [
    "### Вариант 3\n",
    "\n",
    "Проверить теорему Линдеберга-Леви на распределении хи-квадрат: chi2(mu)"
   ]
  },
  {
   "cell_type": "markdown",
   "id": "e8e805fd",
   "metadata": {},
   "source": [
    "### Импорт библиотек"
   ]
  },
  {
   "cell_type": "code",
   "execution_count": 1,
   "id": "d75158b2",
   "metadata": {},
   "outputs": [],
   "source": [
    "import random\n",
    "import matplotlib.pyplot as plt\n",
    "import numpy as np\n",
    "import scipy.stats"
   ]
  },
  {
   "cell_type": "markdown",
   "id": "59d89397",
   "metadata": {},
   "source": [
    "### Создадим выборку размером 1млн объектов из распределения хи-квадрат с мат.ожиданием=15"
   ]
  },
  {
   "cell_type": "code",
   "execution_count": 2,
   "id": "ca9d0534",
   "metadata": {},
   "outputs": [],
   "source": [
    "chi2_dist = scipy.stats.chi2(15)\n",
    "\n",
    "chi2_dist_sample = chi2_dist.rvs(size=1_000_000)"
   ]
  },
  {
   "cell_type": "markdown",
   "id": "91191f41",
   "metadata": {},
   "source": [
    "### Выведем значения мат.ожидания и стандартного отклонения полученного распределения хи-квадрат"
   ]
  },
  {
   "cell_type": "code",
   "execution_count": 4,
   "id": "a4883632",
   "metadata": {},
   "outputs": [
    {
     "name": "stdout",
     "output_type": "stream",
     "text": [
      "chi2_mean: 14.99973\n",
      "chi2_std: 5.47627\n"
     ]
    }
   ],
   "source": [
    "chi2_mean = round(chi2_dist_sample.mean(), 5)\n",
    "chi2_std = round(chi2_dist_sample.std(), 5)\n",
    "print('chi2_mean:', chi2_mean)\n",
    "print('chi2_std:', chi2_std)"
   ]
  },
  {
   "cell_type": "markdown",
   "id": "c2b60d0a",
   "metadata": {},
   "source": [
    "### Построим график функции плотности  и гистограмму полученного распределения хи-квадрат"
   ]
  },
  {
   "cell_type": "code",
   "execution_count": 5,
   "id": "7a0c5a88",
   "metadata": {},
   "outputs": [
    {
     "data": {
      "image/png": "[encoded data removed]",
      "text/plain": [
       "<Figure size 432x288 with 1 Axes>"
      ]
     },
     "metadata": {
      "needs_background": "light"
     },
     "output_type": "display_data"
    }
   ],
   "source": [
    "x_values = np.linspace(chi2_dist.ppf(0.001), chi2_dist.ppf(0.999), 100)\n",
    "\n",
    "plt.plot(x_values, chi2_dist.pdf(x_values), 'r-', lw=2, alpha=0.5)\n",
    "None"
   ]
  },
  {
   "cell_type": "code",
   "execution_count": 6,
   "id": "a00bbc54",
   "metadata": {},
   "outputs": [
    {
     "data": {
      "image/png": "[encoded data removed]",
      "text/plain": [
       "<Figure size 432x288 with 1 Axes>"
      ]
     },
     "metadata": {
      "needs_background": "light"
     },
     "output_type": "display_data"
    }
   ],
   "source": [
    "plt.hist(chi2_dist_sample, color='green', edgecolor='black', bins=8)\n",
    "None"
   ]
  },
  {
   "cell_type": "markdown",
   "id": "406123be",
   "metadata": {},
   "source": [
    "#### Можно увидеть, что графики соответствуют тем, которые должны быть у распределения хи-квардрат с мат.ожиданием=15"
   ]
  },
  {
   "cell_type": "markdown",
   "id": "d03df5db",
   "metadata": {},
   "source": [
    "### Создадим выборку размером 1млн объектов из нормального распределения c средним=0 и стандартным отклонением=chi2_std\n",
    "\n",
    "#### согласно теореме Линдеберга-Леви, распределение средних выборочных построенного нами распределения хи-квадрат должно приближаться к данному распределению"
   ]
  },
  {
   "cell_type": "code",
   "execution_count": 8,
   "id": "1bd2863c",
   "metadata": {},
   "outputs": [
    {
     "data": {
      "image/png": "[encoded data removed]",
      "text/plain": [
       "<Figure size 432x288 with 1 Axes>"
      ]
     },
     "metadata": {
      "needs_background": "light"
     },
     "output_type": "display_data"
    }
   ],
   "source": [
    "\"\"\"\n",
    "np.random.normal(mu, sigma, size)\n",
    "генерирует выборку размера size из нормальнго распределения\n",
    "\n",
    "принимает три параметра:\n",
    "mu - математическое ожидание\n",
    "sigma - стандартное отклонение\n",
    "size - количество генерируемых объектов\n",
    "\"\"\"\n",
    "\n",
    "norm_dist = np.random.normal(0, chi2_std, 1_000_000)\n",
    "plt.hist(norm_dist, color='orange', edgecolor='black', bins=11)\n",
    "\n",
    "\n",
    "None"
   ]
  },
  {
   "cell_type": "markdown",
   "id": "1b22ee32",
   "metadata": {},
   "source": [
    "### Проверим ЦПТ в форме Линдеберга-Леви для распределения хи-квадрат с мат.ожиданием=15"
   ]
  },
  {
   "cell_type": "code",
   "execution_count": 9,
   "id": "af10e52b",
   "metadata": {},
   "outputs": [],
   "source": [
    "\"\"\"\n",
    "CLT_calc(n, sample, mu, mini_sample_count=100000)\n",
    "генерирует 100000(по умолчанию) выборок размера n и вычисляет для них значение выражения\n",
    "\n",
    "1/sqrt(n) * sum(Xi - mu), i = 0..n\n",
    "\n",
    "для проверки условия теоремы Линдеберга-Леви.\n",
    "\n",
    "принимает 4 параметра:\n",
    "n - размер случайной выборки\n",
    "sample - множество объектов, из которого формируются выборки\n",
    "mu - мат.ожидание на множестве sample\n",
    "mini_sample_count - количество генерируемых выборок (не обязательный) 100000 по умолчанию\n",
    "\n",
    "возвращает объект типа list\n",
    "\"\"\"\n",
    "def CLT_calc(n, sample, mu, mini_sample_count=100_000):\n",
    "    mini_sample_means = []\n",
    "    for _ in range(mini_sample_count):\n",
    "        mini_sample = np.random.choice(sample, size=n) - mu\n",
    "        mini_sample_means.append(mini_sample.sum() * 1/(n**0.5))\n",
    "        \n",
    "    return mini_sample_means"
   ]
  },
  {
   "cell_type": "markdown",
   "id": "2ff30798",
   "metadata": {},
   "source": [
    "#### С ростом объема случайных выборок распределение средних этих выборок должно приближаться к нормальному с средним = 0 и стандартным отклонением = 5.47627"
   ]
  },
  {
   "cell_type": "code",
   "execution_count": 11,
   "id": "53629f4e",
   "metadata": {},
   "outputs": [
    {
     "data": {
      "image/png": "[encoded data removed]",
      "text/plain": [
       "<Figure size 432x288 with 1 Axes>"
      ]
     },
     "metadata": {
      "needs_background": "light"
     },
     "output_type": "display_data"
    },
    {
     "name": "stdout",
     "output_type": "stream",
     "text": [
      "Mean: -0.03378\n",
      "Std: 5.4704\n"
     ]
    },
    {
     "data": {
      "image/png": "[encoded data removed]",
      "text/plain": [
       "<Figure size 432x288 with 1 Axes>"
      ]
     },
     "metadata": {
      "needs_background": "light"
     },
     "output_type": "display_data"
    },
    {
     "name": "stdout",
     "output_type": "stream",
     "text": [
      "Mean: 0.0242\n",
      "Std: 5.4733\n"
     ]
    },
    {
     "data": {
      "image/png": "[encoded data removed]",
      "text/plain": [
       "<Figure size 432x288 with 1 Axes>"
      ]
     },
     "metadata": {
      "needs_background": "light"
     },
     "output_type": "display_data"
    },
    {
     "name": "stdout",
     "output_type": "stream",
     "text": [
      "Mean: -0.00433\n",
      "Std: 5.4796\n"
     ]
    },
    {
     "data": {
      "image/png": "[encoded data removed]",
      "text/plain": [
       "<Figure size 432x288 with 1 Axes>"
      ]
     },
     "metadata": {
      "needs_background": "light"
     },
     "output_type": "display_data"
    },
    {
     "name": "stdout",
     "output_type": "stream",
     "text": [
      "Mean: 0.01294\n",
      "Std: 5.46642\n"
     ]
    },
    {
     "data": {
      "image/png": "[encoded data removed]",
      "text/plain": [
       "<Figure size 432x288 with 1 Axes>"
      ]
     },
     "metadata": {
      "needs_background": "light"
     },
     "output_type": "display_data"
    },
    {
     "name": "stdout",
     "output_type": "stream",
     "text": [
      "Mean: 0.0088\n",
      "Std: 5.46665\n"
     ]
    },
    {
     "data": {
      "image/png": "[encoded data removed]",
      "text/plain": [
       "<Figure size 432x288 with 1 Axes>"
      ]
     },
     "metadata": {
      "needs_background": "light"
     },
     "output_type": "display_data"
    },
    {
     "name": "stdout",
     "output_type": "stream",
     "text": [
      "Mean: -0.01465\n",
      "Std: 5.46297\n"
     ]
    }
   ],
   "source": [
    "\"\"\"\n",
    "samlple_sizes - размеры случайных подвыборок из бета-распределения\n",
    "\n",
    "итерируетмся по ним и для каждого из размеров выборки \n",
    "проверяем соответствие распределения средних этих выборок нормальному \n",
    "при помощи построения гистограммы и \n",
    "вычисления среднего и стандартного отклонения полученного распределения \n",
    "\n",
    "\"\"\"\n",
    "sample_sizes = [2, 5, 10, 20, 30, 45]\n",
    "\n",
    "for sample_size in sample_sizes:\n",
    "    sample_means = CLT_calc(sample_size, chi2_dist_sample, chi2_mean)\n",
    "    plt.hist(sample_means, color='blue', edgecolor='black', bins=10)\n",
    "    plt.title(f'sample_size = {sample_size}')\n",
    "    plt.show()\n",
    "    print('Mean:', round(np.array(sample_means).mean(), 5))\n",
    "    print('Std:', round(np.array(sample_means).std(), 5))\n"
   ]
  },
  {
   "cell_type": "markdown",
   "id": "3459d842",
   "metadata": {},
   "source": [
    "### Можно увидеть, как c ростом размера случайных подвыборок из распределения хи-квадрат, распределение их средних приближается к нормальному с средним=0 и стандартным отклонением=5.47627, что согласуется с теоремой Линдеберга-Леви."
   ]
  }
 ],
 "metadata": {
  "kernelspec": {
   "display_name": "Python 3 (ipykernel)",
   "language": "python",
   "name": "python3"
  },
  "language_info": {
   "codemirror_mode": {
    "name": "ipython",
    "version": 3
   },
   "file_extension": ".py",
   "mimetype": "text/x-python",
   "name": "python",
   "nbconvert_exporter": "python",
   "pygments_lexer": "ipython3",
   "version": "3.7.5"
  }
 },
 "nbformat": 4,
 "nbformat_minor": 5
}
